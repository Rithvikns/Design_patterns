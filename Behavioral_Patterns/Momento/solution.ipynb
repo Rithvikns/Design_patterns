{
  "nbformat": 4,
  "nbformat_minor": 0,
  "metadata": {
    "colab": {
      "provenance": [],
      "authorship_tag": "ABX9TyONkXWyzk3/KFYIaP5QbGay",
      "include_colab_link": true
    },
    "kernelspec": {
      "name": "python3",
      "display_name": "Python 3"
    },
    "language_info": {
      "name": "python"
    }
  },
  "cells": [
    {
      "cell_type": "markdown",
      "metadata": {
        "id": "view-in-github",
        "colab_type": "text"
      },
      "source": [
        "<a href=\"https://colab.research.google.com/github/Rithvikns/Design_patterns/blob/main/Behavioral_Patterns/Momento/solution.ipynb\" target=\"_parent\"><img src=\"https://colab.research.google.com/assets/colab-badge.svg\" alt=\"Open In Colab\"/></a>"
      ]
    },
    {
      "cell_type": "markdown",
      "source": [
        "Momento Design Pattern"
      ],
      "metadata": {
        "id": "e9NQ3BB033wN"
      }
    },
    {
      "cell_type": "code",
      "execution_count": 1,
      "metadata": {
        "id": "9BdXWheq3yLE"
      },
      "outputs": [],
      "source": [
        "# Memento class\n",
        "class Memento:\n",
        "    def __init__(self, state):\n",
        "        self._state = state\n",
        "\n",
        "    def get_state(self):\n",
        "        return self._state"
      ]
    },
    {
      "cell_type": "code",
      "source": [
        "# Originator class\n",
        "class Originator:\n",
        "    def __init__(self):\n",
        "        self._state = \"\"\n",
        "\n",
        "    def set_state(self, state):\n",
        "        print(f\"Setting state to: {state}\")\n",
        "        self._state = state\n",
        "\n",
        "    def save_state(self):\n",
        "        print(f\"Saving state: {self._state}\")\n",
        "        return Memento(self._state)\n",
        "\n",
        "    def restore_state(self, memento):\n",
        "        self._state = memento.get_state()\n",
        "        print(f\"Restored state to: {self._state}\")\n"
      ],
      "metadata": {
        "id": "AJAyGRuu4Aye"
      },
      "execution_count": 2,
      "outputs": []
    },
    {
      "cell_type": "code",
      "source": [
        "# Caretaker class\n",
        "class Caretaker:\n",
        "    def __init__(self):\n",
        "        self._mementos = []\n",
        "\n",
        "    def add_memento(self, memento):\n",
        "        self._mementos.append(memento)\n",
        "\n",
        "    def get_memento(self, index):\n",
        "        return self._mementos[index]\n"
      ],
      "metadata": {
        "id": "Za4E9I1l4C9G"
      },
      "execution_count": 3,
      "outputs": []
    },
    {
      "cell_type": "code",
      "source": [
        "# Client code\n",
        "if __name__ == \"__main__\":\n",
        "    originator = Originator()\n",
        "    caretaker = Caretaker()\n",
        "\n",
        "    originator.set_state(\"State 1\")\n",
        "    caretaker.add_memento(originator.save_state())\n",
        "\n",
        "    originator.set_state(\"State 2\")\n",
        "    caretaker.add_memento(originator.save_state())\n",
        "\n",
        "    originator.set_state(\"State 3\")\n",
        "\n",
        "    print(\"\\nUndoing changes...\\n\")\n",
        "    originator.restore_state(caretaker.get_memento(0))"
      ],
      "metadata": {
        "colab": {
          "base_uri": "https://localhost:8080/"
        },
        "id": "o0zmikvZ4Gk1",
        "outputId": "28fcbe63-5772-4a11-c773-5d5d91cc98ff"
      },
      "execution_count": 4,
      "outputs": [
        {
          "output_type": "stream",
          "name": "stdout",
          "text": [
            "Setting state to: State 1\n",
            "Saving state: State 1\n",
            "Setting state to: State 2\n",
            "Saving state: State 2\n",
            "Setting state to: State 3\n",
            "\n",
            "Undoing changes...\n",
            "\n",
            "Restored state to: State 1\n"
          ]
        }
      ]
    }
  ]
}