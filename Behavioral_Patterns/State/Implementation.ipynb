{
  "nbformat": 4,
  "nbformat_minor": 0,
  "metadata": {
    "colab": {
      "provenance": [],
      "authorship_tag": "ABX9TyPKuyJIwyHbEzV99plfgst7",
      "include_colab_link": true
    },
    "kernelspec": {
      "name": "python3",
      "display_name": "Python 3"
    },
    "language_info": {
      "name": "python"
    }
  },
  "cells": [
    {
      "cell_type": "markdown",
      "metadata": {
        "id": "view-in-github",
        "colab_type": "text"
      },
      "source": [
        "<a href=\"https://colab.research.google.com/github/Rithvikns/Design_patterns/blob/main/Behavioral_Patterns/State/Implementation.ipynb\" target=\"_parent\"><img src=\"https://colab.research.google.com/assets/colab-badge.svg\" alt=\"Open In Colab\"/></a>"
      ]
    },
    {
      "cell_type": "code",
      "execution_count": 1,
      "metadata": {
        "id": "E2Y2TxVNd4a8"
      },
      "outputs": [],
      "source": [
        "from abc import ABC, abstractmethod"
      ]
    },
    {
      "cell_type": "code",
      "source": [
        "# State Interface\n",
        "class TrafficLightState(ABC):\n",
        "    @abstractmethod\n",
        "    def change(self, traffic_light):\n",
        "        pass\n",
        "\n",
        "    @abstractmethod\n",
        "    def __str__(self):\n",
        "        pass\n",
        "\n",
        "# Concrete States\n",
        "class RedState(TrafficLightState):\n",
        "    def change(self, traffic_light):\n",
        "        print(\"Changing from RED to GREEN\")\n",
        "        traffic_light.state = GreenState()\n",
        "\n",
        "    def __str__(self):\n",
        "        return \"Red Light\"\n",
        "\n",
        "class GreenState(TrafficLightState):\n",
        "    def change(self, traffic_light):\n",
        "        print(\"Changing from GREEN to YELLOW\")\n",
        "        traffic_light.state = YellowState()\n",
        "\n",
        "    def __str__(self):\n",
        "        return \"Green Light\"\n",
        "\n",
        "class YellowState(TrafficLightState):\n",
        "    def change(self, traffic_light):\n",
        "        print(\"Changing from YELLOW to RED\")\n",
        "        traffic_light.state = RedState()\n",
        "\n",
        "    def __str__(self):\n",
        "        return \"Yellow Light\"\n"
      ],
      "metadata": {
        "id": "XcXCiP0pd7Le"
      },
      "execution_count": 2,
      "outputs": []
    },
    {
      "cell_type": "code",
      "source": [
        "# Context\n",
        "class TrafficLight:\n",
        "    def __init__(self):\n",
        "        self.state = RedState()  # Initial state\n",
        "\n",
        "    def change(self):\n",
        "        self.state.change(self)\n",
        "\n",
        "    def __str__(self):\n",
        "        return str(self.state)\n",
        "\n"
      ],
      "metadata": {
        "id": "jOmmhuXxeClW"
      },
      "execution_count": 3,
      "outputs": []
    },
    {
      "cell_type": "code",
      "source": [
        "# Example Usage\n",
        "if __name__ == \"__main__\":\n",
        "    traffic_light = TrafficLight()\n",
        "\n",
        "    for _ in range(6):  # Cycle through states twice\n",
        "        print(f\"Current State: {traffic_light}\")\n",
        "        traffic_light.change()"
      ],
      "metadata": {
        "colab": {
          "base_uri": "https://localhost:8080/"
        },
        "id": "5cz2HM1reIHm",
        "outputId": "69623bec-e059-4a14-dbac-efc5d9ffb2bb"
      },
      "execution_count": 4,
      "outputs": [
        {
          "output_type": "stream",
          "name": "stdout",
          "text": [
            "Current State: Red Light\n",
            "Changing from RED to GREEN\n",
            "Current State: Green Light\n",
            "Changing from GREEN to YELLOW\n",
            "Current State: Yellow Light\n",
            "Changing from YELLOW to RED\n",
            "Current State: Red Light\n",
            "Changing from RED to GREEN\n",
            "Current State: Green Light\n",
            "Changing from GREEN to YELLOW\n",
            "Current State: Yellow Light\n",
            "Changing from YELLOW to RED\n"
          ]
        }
      ]
    }
  ]
}