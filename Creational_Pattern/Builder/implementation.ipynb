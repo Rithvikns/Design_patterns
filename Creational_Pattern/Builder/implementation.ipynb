{
  "nbformat": 4,
  "nbformat_minor": 0,
  "metadata": {
    "colab": {
      "provenance": [],
      "authorship_tag": "ABX9TyOAB/AfQBQ3G/2Ddo9KwJqa",
      "include_colab_link": true
    },
    "kernelspec": {
      "name": "python3",
      "display_name": "Python 3"
    },
    "language_info": {
      "name": "python"
    }
  },
  "cells": [
    {
      "cell_type": "markdown",
      "metadata": {
        "id": "view-in-github",
        "colab_type": "text"
      },
      "source": [
        "<a href=\"https://colab.research.google.com/github/Rithvikns/Design_patterns/blob/main/Creational_Pattern/Builder/implementation.ipynb\" target=\"_parent\"><img src=\"https://colab.research.google.com/assets/colab-badge.svg\" alt=\"Open In Colab\"/></a>"
      ]
    },
    {
      "cell_type": "code",
      "execution_count": 1,
      "metadata": {
        "colab": {
          "base_uri": "https://localhost:8080/"
        },
        "id": "s04H49djPUwx",
        "outputId": "9e11c5ac-27cb-4eeb-a4c0-14518d7a18d7"
      },
      "outputs": [
        {
          "output_type": "stream",
          "name": "stdout",
          "text": [
            "Car(model=Sedan, engine=V6, color=Red)\n"
          ]
        }
      ],
      "source": [
        "class Car:\n",
        "    def __init__(self, model=None, engine=None, color=None):\n",
        "        self.model = model\n",
        "        self.engine = engine\n",
        "        self.color = color\n",
        "\n",
        "    def __str__(self):\n",
        "        return f\"Car(model={self.model}, engine={self.engine}, color={self.color})\"\n",
        "\n",
        "class CarBuilder:\n",
        "    def __init__(self):\n",
        "        self.car = Car()\n",
        "\n",
        "    def set_model(self, model):\n",
        "        self.car.model = model\n",
        "        return self\n",
        "\n",
        "    def set_engine(self, engine):\n",
        "        self.car.engine = engine\n",
        "        return self\n",
        "\n",
        "    def set_color(self, color):\n",
        "        self.car.color = color\n",
        "        return self\n",
        "\n",
        "    def build(self):\n",
        "        return self.car\n",
        "\n",
        "# Usage example:\n",
        "builder = CarBuilder()\n",
        "car = builder.set_model(\"Sedan\").set_engine(\"V6\").set_color(\"Red\").build()\n",
        "print(car)  # Output: Car(model=Sedan, engine=V6, color=Red)"
      ]
    }
  ]
}