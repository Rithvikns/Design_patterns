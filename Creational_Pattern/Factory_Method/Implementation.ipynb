{
  "nbformat": 4,
  "nbformat_minor": 0,
  "metadata": {
    "colab": {
      "provenance": [],
      "authorship_tag": "ABX9TyMZHhPB8zGREo04ZLCxIGIU",
      "include_colab_link": true
    },
    "kernelspec": {
      "name": "python3",
      "display_name": "Python 3"
    },
    "language_info": {
      "name": "python"
    }
  },
  "cells": [
    {
      "cell_type": "markdown",
      "metadata": {
        "id": "view-in-github",
        "colab_type": "text"
      },
      "source": [
        "<a href=\"https://colab.research.google.com/github/Rithvikns/Design_patterns/blob/main/Creational_Pattern/Factory_Method/Implementation.ipynb\" target=\"_parent\"><img src=\"https://colab.research.google.com/assets/colab-badge.svg\" alt=\"Open In Colab\"/></a>"
      ]
    },
    {
      "cell_type": "code",
      "execution_count": 1,
      "metadata": {
        "id": "eSYbregdbncD"
      },
      "outputs": [],
      "source": [
        "from abc import ABC, abstractmethod\n",
        "\n",
        "class Animal(ABC):\n",
        "    @abstractmethod\n",
        "    def speak(self):\n",
        "        pass"
      ]
    },
    {
      "cell_type": "code",
      "source": [
        "class Dog(Animal):\n",
        "    def speak(self):\n",
        "        return \"Woof!\"\n",
        "\n",
        "class Cat(Animal):\n",
        "    def speak(self):\n",
        "        return \"Meow!\""
      ],
      "metadata": {
        "id": "BlsWEOf3bsgH"
      },
      "execution_count": 2,
      "outputs": []
    },
    {
      "cell_type": "code",
      "source": [
        "class AnimalFactory(ABC):\n",
        "    @abstractmethod\n",
        "    def create_animal(self):\n",
        "        pass\n",
        "\n",
        "class DogFactory(AnimalFactory):\n",
        "    def create_animal(self):\n",
        "        return Dog()\n",
        "\n",
        "class CatFactory(AnimalFactory):\n",
        "    def create_animal(self):\n",
        "        return Cat()"
      ],
      "metadata": {
        "id": "GHyWSRNybu5-"
      },
      "execution_count": 7,
      "outputs": []
    },
    {
      "cell_type": "code",
      "source": [
        "if __name__ == \"__main__\":\n",
        "    dog_factory = DogFactory()\n",
        "    cat_factory = CatFactory()\n",
        "\n",
        "    dog = dog_factory.create_animal()\n",
        "    cat = cat_factory.create_animal()\n",
        "\n",
        "    print(dog.speak())  # Output: Woof!\n",
        "    print(cat.speak())  # Output: Meow!"
      ],
      "metadata": {
        "colab": {
          "base_uri": "https://localhost:8080/"
        },
        "id": "jmcbipJZbxpd",
        "outputId": "a9be493d-e29b-4b98-98bc-b494fc6bb8eb"
      },
      "execution_count": 8,
      "outputs": [
        {
          "output_type": "stream",
          "name": "stdout",
          "text": [
            "Woof!\n",
            "Meow!\n"
          ]
        }
      ]
    },
    {
      "cell_type": "code",
      "source": [
        "print(type(dog))\n",
        "print(isinstance(dog,Dog))\n",
        "print(isinstance(cat,Animal))"
      ],
      "metadata": {
        "colab": {
          "base_uri": "https://localhost:8080/"
        },
        "id": "1HAx5bYJb8P_",
        "outputId": "06b4c43b-78d3-44c2-ed02-78daa2dc11f3"
      },
      "execution_count": 9,
      "outputs": [
        {
          "output_type": "stream",
          "name": "stdout",
          "text": [
            "<class '__main__.Dog'>\n",
            "True\n",
            "True\n"
          ]
        }
      ]
    }
  ]
}