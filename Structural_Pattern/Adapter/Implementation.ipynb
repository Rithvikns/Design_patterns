{
  "nbformat": 4,
  "nbformat_minor": 0,
  "metadata": {
    "colab": {
      "provenance": [],
      "authorship_tag": "ABX9TyOJ19h5P5AFNYOCTrtX2B9g",
      "include_colab_link": true
    },
    "kernelspec": {
      "name": "python3",
      "display_name": "Python 3"
    },
    "language_info": {
      "name": "python"
    }
  },
  "cells": [
    {
      "cell_type": "markdown",
      "metadata": {
        "id": "view-in-github",
        "colab_type": "text"
      },
      "source": [
        "<a href=\"https://colab.research.google.com/github/Rithvikns/Design_patterns/blob/main/Structural_Pattern/Adapter/Implementation.ipynb\" target=\"_parent\"><img src=\"https://colab.research.google.com/assets/colab-badge.svg\" alt=\"Open In Colab\"/></a>"
      ]
    },
    {
      "cell_type": "markdown",
      "source": [
        "\n",
        "Adapter Structural Design Pattern in Python\n",
        "---\n",
        "\n"
      ],
      "metadata": {
        "id": "V0vFPuZK9E9T"
      }
    },
    {
      "cell_type": "code",
      "execution_count": 1,
      "metadata": {
        "id": "llJ3cR5w8vwy"
      },
      "outputs": [],
      "source": [
        "# The Adapter pattern allows objects with incompatible interfaces to work together.\n",
        "# It acts as a bridge between two different interfaces by wrapping an existing class\n",
        "# with a new interface.\n",
        "\n",
        "# Complex Scenario:\n",
        "# Suppose we have multiple payment gateways, each with a different interface.\n",
        "# We want to create a unified interface to handle payments, regardless of the gateway.\n",
        "\n",
        "# Legacy Payment Gateway 1\n",
        "class PayPal:\n",
        "    def process_payment(self, amount):\n",
        "        return f\"Processed ${amount} using PayPal.\"\n"
      ]
    },
    {
      "cell_type": "code",
      "source": [
        "# Legacy Payment Gateway 2\n",
        "class Stripe:\n",
        "    def make_payment(self, amount):\n",
        "        return f\"Paid ${amount} via Stripe.\""
      ],
      "metadata": {
        "id": "e9K2uo4C8_6o"
      },
      "execution_count": 2,
      "outputs": []
    },
    {
      "cell_type": "code",
      "source": [
        "# Legacy Payment Gateway 3\n",
        "class Razorpay:\n",
        "    def initiate_transaction(self, amount):\n",
        "        return f\"Transaction of ${amount} started with Razorpay.\""
      ],
      "metadata": {
        "id": "BSeA1_hE89w6"
      },
      "execution_count": 3,
      "outputs": []
    },
    {
      "cell_type": "code",
      "source": [
        "# Unified Payment Interface expected by our system\n",
        "class PaymentProcessor:\n",
        "    def pay(self, amount):\n",
        "        raise NotImplementedError(\"Subclasses must implement pay method\")\n"
      ],
      "metadata": {
        "id": "ocPEa-l088Ng"
      },
      "execution_count": 4,
      "outputs": []
    },
    {
      "cell_type": "code",
      "source": [
        "# Adapters for each payment gateway\n",
        "class PayPalAdapter(PaymentProcessor):\n",
        "    def __init__(self, paypal):\n",
        "        self.paypal = paypal\n",
        "\n",
        "    def pay(self, amount):\n",
        "        return self.paypal.process_payment(amount)"
      ],
      "metadata": {
        "id": "Txs2ZSXa84mB"
      },
      "execution_count": 5,
      "outputs": []
    },
    {
      "cell_type": "code",
      "source": [
        "class StripeAdapter(PaymentProcessor):\n",
        "    def __init__(self, stripe):\n",
        "        self.stripe = stripe\n",
        "\n",
        "    def pay(self, amount):\n",
        "        return self.stripe.make_payment(amount)"
      ],
      "metadata": {
        "id": "il3ZmgYG824Y"
      },
      "execution_count": 6,
      "outputs": []
    },
    {
      "cell_type": "code",
      "source": [
        "class RazorpayAdapter(PaymentProcessor):\n",
        "    def __init__(self, razorpay):\n",
        "        self.razorpay = razorpay\n",
        "\n",
        "    def pay(self, amount):\n",
        "        return self.razorpay.initiate_transaction(amount)"
      ],
      "metadata": {
        "id": "yOV4RxkS80kB"
      },
      "execution_count": 7,
      "outputs": []
    },
    {
      "cell_type": "code",
      "source": [
        "# Client Code\n",
        "paypal = PayPalAdapter(PayPal())\n",
        "stripe = StripeAdapter(Stripe())\n",
        "razorpay = RazorpayAdapter(Razorpay())\n",
        "\n",
        "payment_methods = [paypal, stripe, razorpay]\n",
        "\n",
        "for method in payment_methods:\n",
        "    print(method.pay(100))"
      ],
      "metadata": {
        "colab": {
          "base_uri": "https://localhost:8080/"
        },
        "id": "hwbvhBdP8x7R",
        "outputId": "fa251b07-8bc6-48de-c5c6-39deffec1eec"
      },
      "execution_count": 8,
      "outputs": [
        {
          "output_type": "stream",
          "name": "stdout",
          "text": [
            "Processed $100 using PayPal.\n",
            "Paid $100 via Stripe.\n",
            "Transaction of $100 started with Razorpay.\n"
          ]
        }
      ]
    }
  ]
}